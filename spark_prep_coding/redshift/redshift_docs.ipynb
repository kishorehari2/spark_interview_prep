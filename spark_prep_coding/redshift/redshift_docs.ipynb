{
 "cells": [
  {
   "cell_type": "code",
   "execution_count": null,
   "id": "2cd9c2ee",
   "metadata": {},
   "outputs": [
    {
     "ename": "SyntaxError",
     "evalue": "invalid decimal literal (2365706228.py, line 3)",
     "output_type": "error",
     "traceback": [
      "\u001b[0;36m  Cell \u001b[0;32mIn[2], line 3\u001b[0;36m\u001b[0m\n\u001b[0;31m    https://medium.com/@navin5556/mastering-aws-glue-etl-a-step-by-step-guide-to-loading-data-from-s3-to-redshift-4152be7e2922\u001b[0m\n\u001b[0m                                                                                                                     ^\u001b[0m\n\u001b[0;31mSyntaxError\u001b[0m\u001b[0;31m:\u001b[0m invalid decimal literal\n"
     ]
    }
   ],
   "source": [
    "https://skphd.medium.com/amazon-redshift-interview-questions-and-answers-ba98591aa993\n",
    "https://skphd.medium.com/amazon-redshift-interview-questions-and-answers-ba98591aa993\n",
    "\n",
    "https://medium.com/@navin5556/mastering-aws-glue-etl-a-step-by-step-guide-to-loading-data-from-s3-to-redshift-4152be7e2922\n",
    "\n",
    "https://github.com/navin5556/aws-glue-etl-project/tree/main"
   ]
  },
  {
   "cell_type": "code",
   "execution_count": null,
   "id": "187af2f3",
   "metadata": {},
   "outputs": [],
   "source": []
  }
 ],
 "metadata": {
  "kernelspec": {
   "display_name": "pe",
   "language": "python",
   "name": "python3"
  },
  "language_info": {
   "codemirror_mode": {
    "name": "ipython",
    "version": 3
   },
   "file_extension": ".py",
   "mimetype": "text/x-python",
   "name": "python",
   "nbconvert_exporter": "python",
   "pygments_lexer": "ipython3",
   "version": "3.10.13"
  }
 },
 "nbformat": 4,
 "nbformat_minor": 5
}
