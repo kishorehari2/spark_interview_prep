{
 "cells": [
  {
   "cell_type": "code",
   "execution_count": 2,
   "metadata": {},
   "outputs": [
    {
     "name": "stderr",
     "output_type": "stream",
     "text": [
      "Setting default log level to \"WARN\".\n",
      "To adjust logging level use sc.setLogLevel(newLevel). For SparkR, use setLogLevel(newLevel).\n",
      "25/05/20 13:18:31 WARN NativeCodeLoader: Unable to load native-hadoop library for your platform... using builtin-java classes where applicable\n"
     ]
    }
   ],
   "source": [
    "from pyspark.sql import SparkSession\n",
    "spark = SparkSession.builder \\\n",
    "    .appName(\"example_app\") \\\n",
    "    .master(\"local[*]\") \\\n",
    "    .getOrCreate()\n"
   ]
  },
  {
   "cell_type": "code",
   "execution_count": null,
   "metadata": {},
   "outputs": [],
   "source": [
    "from pyspark.sql import SparkSession\n",
    "from pyspark.sql.types import StructType, StructField, IntegerType, StringType, TimestampType\n",
    "from datetime import datetime\n",
    "\n",
    "spark = SparkSession.builder.appName(\"CountryRankingChange\").getOrCreate()\n",
    "\n",
    "# fb_actual_users\n",
    "user_data = [\n",
    "    (1, \"Alice\", \"active\", \"USA\"),\n",
    "    (2, \"Bob\", \"active\", \"India\"),\n",
    "    (3, \"Charlie\", \"inactive\", \"USA\"),\n",
    "    (4, \"David\", \"active\", \"UK\"),\n",
    "    (5, \"Eve\", \"active\", \"India\"),\n",
    "    (6, \"Frank\", \"active\", \"UK\"),\n",
    "    (7, \"Grace\", \"active\", \"Canada\")\n",
    "]\n",
    "\n",
    "user_schema = StructType([\n",
    "    StructField(\"user_id\", IntegerType(), True),\n",
    "    StructField(\"name\", StringType(), True),\n",
    "    StructField(\"status\", StringType(), True),\n",
    "    StructField(\"country\", StringType(), True)\n",
    "])\n",
    "\n",
    "fb_actual_users = spark.createDataFrame(user_data, schema=user_schema)\n",
    "\n",
    "# fb_comment_counts\n",
    "comment_data = [\n",
    "    (1, datetime(2021, 12, 5, 10), 5),\n",
    "    (2, datetime(2021, 12, 10, 12), 8),\n",
    "    (3, datetime(2021, 12, 15, 14), 2),\n",
    "    (4, datetime(2021, 12, 20, 16), 3),\n",
    "    (7, datetime(2021, 12, 15, 13), 4),\n",
    "    (5, datetime(2022, 1, 5, 11), 7),\n",
    "    (6, datetime(2022, 1, 10, 9), 7),\n",
    "    (7, datetime(2022, 1, 15, 13), 6),\n",
    "    (1, datetime(2022, 1, 20, 15), 3)\n",
    "]\n",
    "\n",
    "# 2021: india - 8 , usa - 7 , canada - 4, uk - 3\n",
    "\n",
    "# 2022 : india -7, uk -7   , canada - 6 , usa -3 \n",
    "# rank: 1,1,3,4\n",
    "#dense_rank: 1,1,2,3\n",
    "\n",
    "\n",
    "\n",
    "comment_schema = StructType([\n",
    "    StructField(\"user_id\", IntegerType(), True),\n",
    "    StructField(\"created_dt\", TimestampType(), True),\n",
    "    StructField(\"no_comments\", IntegerType(), True)\n",
    "])\n",
    "\n",
    "fb_comment_counts = spark.createDataFrame(comment_data, schema=comment_schema)\n"
   ]
  },
  {
   "cell_type": "code",
   "execution_count": 29,
   "metadata": {},
   "outputs": [
    {
     "name": "stderr",
     "output_type": "stream",
     "text": [
      "25/05/20 14:55:11 WARN WindowExec: No Partition Defined for Window operation! Moving all data to a single partition, this can cause serious performance degradation.\n",
      "25/05/20 14:55:11 WARN WindowExec: No Partition Defined for Window operation! Moving all data to a single partition, this can cause serious performance degradation.\n",
      "25/05/20 14:55:11 WARN WindowExec: No Partition Defined for Window operation! Moving all data to a single partition, this can cause serious performance degradation.\n",
      "25/05/20 14:55:12 WARN WindowExec: No Partition Defined for Window operation! Moving all data to a single partition, this can cause serious performance degradation.\n",
      "25/05/20 14:55:12 WARN WindowExec: No Partition Defined for Window operation! Moving all data to a single partition, this can cause serious performance degradation.\n",
      "25/05/20 14:55:12 WARN WindowExec: No Partition Defined for Window operation! Moving all data to a single partition, this can cause serious performance degradation.\n",
      "25/05/20 14:55:12 WARN WindowExec: No Partition Defined for Window operation! Moving all data to a single partition, this can cause serious performance degradation.\n",
      "25/05/20 14:55:12 WARN WindowExec: No Partition Defined for Window operation! Moving all data to a single partition, this can cause serious performance degradation.\n",
      "25/05/20 14:55:12 WARN WindowExec: No Partition Defined for Window operation! Moving all data to a single partition, this can cause serious performance degradation.\n",
      "25/05/20 14:55:12 WARN WindowExec: No Partition Defined for Window operation! Moving all data to a single partition, this can cause serious performance degradation.\n",
      "25/05/20 14:55:12 WARN WindowExec: No Partition Defined for Window operation! Moving all data to a single partition, this can cause serious performance degradation.\n",
      "25/05/20 14:55:12 WARN WindowExec: No Partition Defined for Window operation! Moving all data to a single partition, this can cause serious performance degradation.\n",
      "25/05/20 14:55:12 WARN WindowExec: No Partition Defined for Window operation! Moving all data to a single partition, this can cause serious performance degradation.\n"
     ]
    },
    {
     "name": "stdout",
     "output_type": "stream",
     "text": [
      "+-------+------+\n",
      "|country|rank21|\n",
      "+-------+------+\n",
      "|  India|     1|\n",
      "|    USA|     2|\n",
      "| Canada|     3|\n",
      "|     UK|     4|\n",
      "+-------+------+\n",
      "\n"
     ]
    },
    {
     "name": "stderr",
     "output_type": "stream",
     "text": [
      "25/05/20 14:55:13 WARN WindowExec: No Partition Defined for Window operation! Moving all data to a single partition, this can cause serious performance degradation.\n",
      "25/05/20 14:55:13 WARN WindowExec: No Partition Defined for Window operation! Moving all data to a single partition, this can cause serious performance degradation.\n",
      "25/05/20 14:55:13 WARN WindowExec: No Partition Defined for Window operation! Moving all data to a single partition, this can cause serious performance degradation.\n",
      "25/05/20 14:55:13 WARN WindowExec: No Partition Defined for Window operation! Moving all data to a single partition, this can cause serious performance degradation.\n",
      "25/05/20 14:55:13 WARN WindowExec: No Partition Defined for Window operation! Moving all data to a single partition, this can cause serious performance degradation.\n",
      "25/05/20 14:55:13 WARN WindowExec: No Partition Defined for Window operation! Moving all data to a single partition, this can cause serious performance degradation.\n",
      "25/05/20 14:55:13 WARN WindowExec: No Partition Defined for Window operation! Moving all data to a single partition, this can cause serious performance degradation.\n",
      "25/05/20 14:55:13 WARN WindowExec: No Partition Defined for Window operation! Moving all data to a single partition, this can cause serious performance degradation.\n",
      "25/05/20 14:55:13 WARN WindowExec: No Partition Defined for Window operation! Moving all data to a single partition, this can cause serious performance degradation.\n",
      "25/05/20 14:55:13 WARN WindowExec: No Partition Defined for Window operation! Moving all data to a single partition, this can cause serious performance degradation.\n",
      "25/05/20 14:55:13 WARN WindowExec: No Partition Defined for Window operation! Moving all data to a single partition, this can cause serious performance degradation.\n"
     ]
    },
    {
     "name": "stdout",
     "output_type": "stream",
     "text": [
      "+-------+------+\n",
      "|country|rank22|\n",
      "+-------+------+\n",
      "|  India|     1|\n",
      "|     UK|     1|\n",
      "| Canada|     2|\n",
      "|    USA|     3|\n",
      "+-------+------+\n",
      "\n"
     ]
    },
    {
     "name": "stderr",
     "output_type": "stream",
     "text": [
      "25/05/20 14:55:14 WARN WindowExec: No Partition Defined for Window operation! Moving all data to a single partition, this can cause serious performance degradation.\n",
      "25/05/20 14:55:14 WARN WindowExec: No Partition Defined for Window operation! Moving all data to a single partition, this can cause serious performance degradation.\n",
      "25/05/20 14:55:14 WARN WindowExec: No Partition Defined for Window operation! Moving all data to a single partition, this can cause serious performance degradation.\n",
      "25/05/20 14:55:14 WARN WindowExec: No Partition Defined for Window operation! Moving all data to a single partition, this can cause serious performance degradation.\n",
      "25/05/20 14:55:14 WARN WindowExec: No Partition Defined for Window operation! Moving all data to a single partition, this can cause serious performance degradation.\n",
      "25/05/20 14:55:14 WARN WindowExec: No Partition Defined for Window operation! Moving all data to a single partition, this can cause serious performance degradation.\n",
      "25/05/20 14:55:14 WARN WindowExec: No Partition Defined for Window operation! Moving all data to a single partition, this can cause serious performance degradation.\n",
      "25/05/20 14:55:14 WARN WindowExec: No Partition Defined for Window operation! Moving all data to a single partition, this can cause serious performance degradation.\n",
      "25/05/20 14:55:14 WARN WindowExec: No Partition Defined for Window operation! Moving all data to a single partition, this can cause serious performance degradation.\n",
      "25/05/20 14:55:14 WARN WindowExec: No Partition Defined for Window operation! Moving all data to a single partition, this can cause serious performance degradation.\n",
      "25/05/20 14:55:14 WARN WindowExec: No Partition Defined for Window operation! Moving all data to a single partition, this can cause serious performance degradation.\n",
      "25/05/20 14:55:14 WARN WindowExec: No Partition Defined for Window operation! Moving all data to a single partition, this can cause serious performance degradation.\n",
      "25/05/20 14:55:14 WARN WindowExec: No Partition Defined for Window operation! Moving all data to a single partition, this can cause serious performance degradation.\n",
      "25/05/20 14:55:14 WARN WindowExec: No Partition Defined for Window operation! Moving all data to a single partition, this can cause serious performance degradation.\n",
      "25/05/20 14:55:14 WARN WindowExec: No Partition Defined for Window operation! Moving all data to a single partition, this can cause serious performance degradation.\n",
      "25/05/20 14:55:14 WARN WindowExec: No Partition Defined for Window operation! Moving all data to a single partition, this can cause serious performance degradation.\n",
      "25/05/20 14:55:14 WARN WindowExec: No Partition Defined for Window operation! Moving all data to a single partition, this can cause serious performance degradation.\n",
      "25/05/20 14:55:14 WARN WindowExec: No Partition Defined for Window operation! Moving all data to a single partition, this can cause serious performance degradation.\n",
      "25/05/20 14:55:14 WARN WindowExec: No Partition Defined for Window operation! Moving all data to a single partition, this can cause serious performance degradation.\n",
      "25/05/20 14:55:14 WARN WindowExec: No Partition Defined for Window operation! Moving all data to a single partition, this can cause serious performance degradation.\n",
      "25/05/20 14:55:15 WARN WindowExec: No Partition Defined for Window operation! Moving all data to a single partition, this can cause serious performance degradation.\n",
      "25/05/20 14:55:15 WARN WindowExec: No Partition Defined for Window operation! Moving all data to a single partition, this can cause serious performance degradation.\n",
      "25/05/20 14:55:15 WARN WindowExec: No Partition Defined for Window operation! Moving all data to a single partition, this can cause serious performance degradation.\n",
      "25/05/20 14:55:15 WARN WindowExec: No Partition Defined for Window operation! Moving all data to a single partition, this can cause serious performance degradation.\n",
      "25/05/20 14:55:15 WARN WindowExec: No Partition Defined for Window operation! Moving all data to a single partition, this can cause serious performance degradation.\n",
      "25/05/20 14:55:15 WARN WindowExec: No Partition Defined for Window operation! Moving all data to a single partition, this can cause serious performance degradation.\n"
     ]
    },
    {
     "name": "stdout",
     "output_type": "stream",
     "text": [
      "+-------+\n",
      "|country|\n",
      "+-------+\n",
      "| Canada|\n",
      "|     UK|\n",
      "+-------+\n",
      "\n"
     ]
    }
   ],
   "source": [
    "# Which countries have risen in rankings based on the number \n",
    "# of comments between December 2021 vs jan 2022(Avoid gaps between ranks)\n",
    "\n",
    "from pyspark.sql.functions import col,sum, dense_rank\n",
    "from pyspark.sql.window import Window\n",
    "\n",
    "fb_actual_users.createOrReplaceTempView('users')\n",
    "\n",
    "fb_comment_counts.createOrReplaceTempView('counts')\n",
    "\n",
    "spark.sql(\"\"\"\n",
    "          with deck_2021 as (\n",
    "          select country, sum(no_comments) as sum1, dense_rank() over (order By sum(no_comments) desc) as rank from users u join counts c on u.user_id = c.user_id \n",
    "          where c.created_dt between date'2021-12-01' and date'2021-12-31'\n",
    "          group by 1 \n",
    "          ),\n",
    "         deck_2022(\n",
    "          select country, sum(no_comments) as sum1, dense_rank() over (order By sum(no_comments) desc) as rank from users u join counts c on u.user_id = c.user_id \n",
    "          where c.created_dt between date'2022-01-01' and date'2022-01-31'\n",
    "          group by 1 \n",
    "          )\n",
    "\n",
    "          select d2.country,d2.sum1  from deck_2021 d1 \n",
    "          join deck_2022 d2\n",
    "          on d1.country = d2.country \n",
    "          and d2.rank < d1.rank\n",
    "          \n",
    "          \"\"\")\n",
    "# .show()\n",
    "\n",
    "window_spec = Window.orderBy(sum(col('no_comments')).desc())\n",
    "deck_2021 = fb_actual_users.join(fb_comment_counts,'user_id',how='left') \\\n",
    "    .filter(\"created_dt between date'2021-12-01' and date'2021-12-31'\") \\\n",
    "        .groupBy(col('country')) \\\n",
    "        .agg(dense_rank().over(window_spec).alias(\"rank21\")\n",
    ")\n",
    "\n",
    "deck_2022 = fb_actual_users.join(fb_comment_counts,'user_id',how='left') \\\n",
    "    .filter(\"created_dt between date'2022-01-01' and date'2022-01-31'\") \\\n",
    "        .groupBy(col('country')) \\\n",
    "        .agg(dense_rank().over(window_spec).alias(\"rank22\")\n",
    ")\n",
    "\n",
    "deck_2021.show()\n",
    "deck_2022.show()\n",
    "\n",
    "\n",
    "deck_2022.join(deck_2021, \"country\", how='inner').filter(\"rank22 < rank21\").select(\"country\").show()\n"
   ]
  },
  {
   "cell_type": "code",
   "execution_count": null,
   "metadata": {},
   "outputs": [],
   "source": [
    "You are given two strings word1 and word2. Merge the strings by adding letters in alternating order, starting with word1. \n",
    "If a string is longer than the other, append the additional letters onto the end of the merged string.\n",
    "\n",
    "Return the merged string.\n",
    "\n",
    " \n",
    "\n",
    "Example 1:\n",
    "\n",
    "Input: word1 = \"abc\", word2 = \"pqr\"\n",
    "Output: \"apbqcr\"\n",
    "Explanation: The merged string will be merged as so:\n",
    "word1:  a   b   c\n",
    "word2:    p   q   r\n",
    "merged: a p b q c r\n",
    "Example 2:\n",
    "\n",
    "Input: word1 = \"ab\", word2 = \"pqrs\"\n",
    "Output: \"apbqrs\"\n",
    "Explanation: Notice that as word2 is longer, \"rs\" is appended to the end.\n",
    "word1:  a   b \n",
    "word2:    p   q   r   s\n",
    "merged: a p b q   r   s\n",
    "Example 3:\n",
    "\n",
    "Input: word1 = \"abcd\", word2 = \"pq\"\n",
    "Output: \"apbqcd\"\n",
    "Explanation: Notice that as word1 is longer, \"cd\" is appended to the end.\n",
    "word1:  a   b   c   d\n",
    "word2:    p   q \n",
    "merged: a p b q c   d"
   ]
  },
  {
   "cell_type": "code",
   "execution_count": null,
   "metadata": {},
   "outputs": [
    {
     "data": {
      "text/plain": [
       "'apbqcrqswertyui'"
      ]
     },
     "execution_count": 56,
     "metadata": {},
     "output_type": "execute_result"
    }
   ],
   "source": [
    "str1 = 'abcqwertyui'\n",
    "str2 = 'pqrs' \n",
    "\n",
    "\n",
    "res = ''\n",
    "for i in range(1,max(len(str2),len(str1))+1):\n",
    "    # print(i)\n",
    "    res = res+str1[:1]+str2[:1]\n",
    "    # print(res)\n",
    "    str2 = str2[1:]\n",
    "    str1 = str1[1:]\n",
    "    # print(str1,str2)\n",
    "\n",
    "res\n",
    "# str1[:1]"
   ]
  },
  {
   "cell_type": "markdown",
   "metadata": {},
   "source": [
    "<h1>------ pyspark interview questions ---- <h2>"
   ]
  },
  {
   "cell_type": "code",
   "execution_count": 59,
   "metadata": {},
   "outputs": [
    {
     "name": "stderr",
     "output_type": "stream",
     "text": [
      "25/05/20 16:46:22 WARN SparkSession: Using an existing Spark session; only runtime SQL configurations will take effect.\n"
     ]
    },
    {
     "name": "stderr",
     "output_type": "stream",
     "text": [
      "[Stage 349:>                                                        (0 + 3) / 3]\r"
     ]
    },
    {
     "name": "stdout",
     "output_type": "stream",
     "text": [
      "+------+-------+-------+\n",
      "|region|product|revenue|\n",
      "+------+-------+-------+\n",
      "|  East|      A|    100|\n",
      "|  East|      B|    150|\n",
      "|  East|      C|    120|\n",
      "|  West|      A|    200|\n",
      "|  West|      B|    180|\n",
      "|  West|      C|    210|\n",
      "+------+-------+-------+\n",
      "\n"
     ]
    },
    {
     "name": "stderr",
     "output_type": "stream",
     "text": [
      "                                                                                \r"
     ]
    }
   ],
   "source": [
    "from pyspark.sql import SparkSession\n",
    "from pyspark.sql.types import StructType, StructField, StringType, IntegerType\n",
    "\n",
    "# Create SparkSession\n",
    "spark = SparkSession.builder \\\n",
    "    .appName(\"Create Sales DataFrame\") \\\n",
    "    .getOrCreate()\n",
    "\n",
    "# Sample data\n",
    "data = [\n",
    "    (\"East\", \"A\", 100),\n",
    "    (\"East\", \"B\", 150),\n",
    "    (\"East\", \"C\", 120),\n",
    "    (\"West\", \"A\", 200),\n",
    "    (\"West\", \"B\", 180),\n",
    "    (\"West\", \"C\", 210)\n",
    "]\n",
    "\n",
    "# Define schema\n",
    "schema = StructType([\n",
    "    StructField(\"region\", StringType(), True),\n",
    "    StructField(\"product\", StringType(), True),\n",
    "    StructField(\"revenue\", IntegerType(), True)\n",
    "])\n",
    "\n",
    "# Create DataFrame\n",
    "df = spark.createDataFrame(data, schema)\n",
    "\n",
    "# Show the DataFrame\n",
    "df.show()\n"
   ]
  },
  {
   "cell_type": "code",
   "execution_count": null,
   "metadata": {},
   "outputs": [],
   "source": [
    "# Scenario:\n",
    "# Find employees whose salary falls within the top 20% highest salaries in their respective departments.\n",
    "\n",
    "# | emp_id | name    | department | salary |\n",
    "# |--------|--------|-----------|--------|\n",
    "# | 4      | David  | IT        | 4500   |\n",
    "# | 5      | Eva    | Finance   | 5000   |\n",
    "\n",
    "\n",
    "window_spec = Window.partitionBy(col('department')).over(col(\"salary\"))\n",
    "\n",
    "\n",
    "df = df.withColumn('rank',dense_rank().over(window_spec))\n",
    "\n",
    "\n",
    "git config --global user.name \"hari\"\n",
    "\n",
    "git config --global user.email \"kishorehari228@gmail.com\""
   ]
  }
 ],
 "metadata": {
  "kernelspec": {
   "display_name": "pe",
   "language": "python",
   "name": "python3"
  },
  "language_info": {
   "codemirror_mode": {
    "name": "ipython",
    "version": 3
   },
   "file_extension": ".py",
   "mimetype": "text/x-python",
   "name": "python",
   "nbconvert_exporter": "python",
   "pygments_lexer": "ipython3",
   "version": "3.10.13"
  }
 },
 "nbformat": 4,
 "nbformat_minor": 4
}
